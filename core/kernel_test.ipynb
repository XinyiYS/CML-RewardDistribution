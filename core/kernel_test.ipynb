{
 "cells": [
  {
   "cell_type": "code",
   "execution_count": 25,
   "metadata": {},
   "outputs": [],
   "source": [
    "import gpytorch\n",
    "import numpy as np\n",
    "import torch"
   ]
  },
  {
   "cell_type": "code",
   "execution_count": 3,
   "metadata": {},
   "outputs": [],
   "source": [
    "k0 = gpytorch.kernels.RQKernel(alpha=0.1)"
   ]
  },
  {
   "cell_type": "code",
   "execution_count": 5,
   "metadata": {
    "scrolled": true
   },
   "outputs": [
    {
     "data": {
      "text/plain": [
       "tensor([0.6931], grad_fn=<SoftplusBackward>)"
      ]
     },
     "execution_count": 5,
     "metadata": {},
     "output_type": "execute_result"
    }
   ],
   "source": [
    "k0.alpha"
   ]
  },
  {
   "cell_type": "code",
   "execution_count": null,
   "metadata": {},
   "outputs": [],
   "source": []
  },
  {
   "cell_type": "code",
   "execution_count": 6,
   "metadata": {
    "scrolled": false
   },
   "outputs": [
    {
     "data": {
      "text/plain": [
       "Parameter containing:\n",
       "tensor([0.], requires_grad=True)"
      ]
     },
     "execution_count": 6,
     "metadata": {},
     "output_type": "execute_result"
    }
   ],
   "source": [
    "k0.raw_alpha"
   ]
  },
  {
   "cell_type": "code",
   "execution_count": 7,
   "metadata": {},
   "outputs": [],
   "source": [
    "k0.alpha = 0.1"
   ]
  },
  {
   "cell_type": "code",
   "execution_count": 8,
   "metadata": {},
   "outputs": [
    {
     "data": {
      "text/plain": [
       "tensor([0.1000], grad_fn=<SoftplusBackward>)"
      ]
     },
     "execution_count": 8,
     "metadata": {},
     "output_type": "execute_result"
    }
   ],
   "source": [
    "k0.alpha"
   ]
  },
  {
   "cell_type": "code",
   "execution_count": 11,
   "metadata": {},
   "outputs": [],
   "source": [
    "k1 = gpytorch.kernels.RQKernel()"
   ]
  },
  {
   "cell_type": "code",
   "execution_count": 10,
   "metadata": {},
   "outputs": [],
   "source": [
    "alphas = [0.1, 1, 10]"
   ]
  },
  {
   "cell_type": "code",
   "execution_count": 14,
   "metadata": {},
   "outputs": [
    {
     "data": {
      "text/plain": [
       "AdditiveKernel(\n",
       "  (kernels): ModuleList(\n",
       "    (0): RQKernel(\n",
       "      (raw_lengthscale_constraint): Positive()\n",
       "      (raw_alpha_constraint): Positive()\n",
       "    )\n",
       "    (1): RQKernel(\n",
       "      (raw_lengthscale_constraint): Positive()\n",
       "      (raw_alpha_constraint): Positive()\n",
       "    )\n",
       "  )\n",
       ")"
      ]
     },
     "execution_count": 14,
     "metadata": {},
     "output_type": "execute_result"
    }
   ],
   "source": [
    "k0 + k1"
   ]
  },
  {
   "cell_type": "code",
   "execution_count": null,
   "metadata": {},
   "outputs": [],
   "source": [
    "rq_kernels = []\n",
    "for alpha in alpha:\n",
    "    k = gpytorch.kernels.RQKernel()\n",
    "    k.alpha = alpha\n",
    "    rq_kernels.append(k)\n",
    "kernel = "
   ]
  },
  {
   "cell_type": "code",
   "execution_count": 29,
   "metadata": {},
   "outputs": [],
   "source": [
    "linear_kernel = gpytorch.kernels.LinearKernel()"
   ]
  },
  {
   "cell_type": "code",
   "execution_count": 32,
   "metadata": {},
   "outputs": [],
   "source": [
    "linear_kernel.variance = 1."
   ]
  },
  {
   "cell_type": "code",
   "execution_count": 33,
   "metadata": {},
   "outputs": [
    {
     "data": {
      "text/plain": [
       "tensor([[1., 1.],\n",
       "        [2., 2.]], grad_fn=<MmBackward>)"
      ]
     },
     "execution_count": 33,
     "metadata": {},
     "output_type": "execute_result"
    }
   ],
   "source": [
    "linear_kernel(torch.tensor([1, 2]), torch.tensor([1, 1])).evaluate()"
   ]
  },
  {
   "cell_type": "code",
   "execution_count": 34,
   "metadata": {},
   "outputs": [],
   "source": [
    "linear_kernel = gpytorch.kernels.LinearKernel()\n",
    "linear_kernel.variance = 1.\n",
    "kernel = linear_kernel\n",
    "for alpha in alphas:\n",
    "    rq_kernel = gpytorch.kernels.RQKernel()\n",
    "    rq_kernel.alpha = alpha\n",
    "    kernel += rq_kernel"
   ]
  },
  {
   "cell_type": "code",
   "execution_count": 36,
   "metadata": {},
   "outputs": [],
   "source": [
    "rq01 = gpytorch.kernels.RQKernel()\n",
    "rq01.alpha = 0.1\n",
    "rq1 = gpytorch.kernels.RQKernel()\n",
    "rq1.alpha = 1\n",
    "rq10 = gpytorch.kernels.RQKernel()\n",
    "rq10.alpha = 10\n",
    "lin = gpytorch.kernels.LinearKernel()\n",
    "linear_kernel.variance = 1."
   ]
  },
  {
   "cell_type": "code",
   "execution_count": 37,
   "metadata": {},
   "outputs": [],
   "source": [
    "kernel = rq01 + rq1 + rq10 + lin"
   ]
  },
  {
   "cell_type": "code",
   "execution_count": 38,
   "metadata": {
    "scrolled": true
   },
   "outputs": [
    {
     "data": {
      "text/plain": [
       "AdditiveKernel(\n",
       "  (kernels): ModuleList(\n",
       "    (0): AdditiveKernel(\n",
       "      (kernels): ModuleList(\n",
       "        (0): AdditiveKernel(\n",
       "          (kernels): ModuleList(\n",
       "            (0): RQKernel(\n",
       "              (raw_lengthscale_constraint): Positive()\n",
       "              (raw_alpha_constraint): Positive()\n",
       "            )\n",
       "            (1): RQKernel(\n",
       "              (raw_lengthscale_constraint): Positive()\n",
       "              (raw_alpha_constraint): Positive()\n",
       "            )\n",
       "          )\n",
       "        )\n",
       "        (1): RQKernel(\n",
       "          (raw_lengthscale_constraint): Positive()\n",
       "          (raw_alpha_constraint): Positive()\n",
       "        )\n",
       "      )\n",
       "    )\n",
       "    (1): LinearKernel(\n",
       "      (raw_variance_constraint): Positive()\n",
       "    )\n",
       "  )\n",
       ")"
      ]
     },
     "execution_count": 38,
     "metadata": {},
     "output_type": "execute_result"
    }
   ],
   "source": [
    "kernel"
   ]
  },
  {
   "cell_type": "code",
   "execution_count": 41,
   "metadata": {},
   "outputs": [
    {
     "data": {
      "text/plain": [
       "tensor([[3.6931, 4.1217],\n",
       "        [3.0318, 7.6637]], grad_fn=<AddBackward0>)"
      ]
     },
     "execution_count": 41,
     "metadata": {},
     "output_type": "execute_result"
    }
   ],
   "source": [
    "kernel(torch.tensor([1, 2]), torch.tensor([1, 5])).evaluate()"
   ]
  }
 ],
 "metadata": {
  "kernelspec": {
   "display_name": "Python 3",
   "language": "python",
   "name": "python3"
  },
  "language_info": {
   "codemirror_mode": {
    "name": "ipython",
    "version": 3
   },
   "file_extension": ".py",
   "mimetype": "text/x-python",
   "name": "python",
   "nbconvert_exporter": "python",
   "pygments_lexer": "ipython3",
   "version": "3.6.12"
  }
 },
 "nbformat": 4,
 "nbformat_minor": 4
}
