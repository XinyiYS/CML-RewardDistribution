{
 "cells": [
  {
   "cell_type": "code",
   "execution_count": null,
   "metadata": {},
   "outputs": [],
   "source": [
    "import sys\n",
    "import os\n",
    "\n",
    "module_path = os.path.abspath(os.path.join('..'))\n",
    "if module_path not in sys.path:\n",
    "    sys.path.append(module_path)"
   ]
  },
  {
   "cell_type": "code",
   "execution_count": null,
   "metadata": {
    "scrolled": true
   },
   "outputs": [],
   "source": [
    "import numpy as np\n",
    "import matplotlib.pyplot as plt\n",
    "from matplotlib import cm\n",
    "import torch\n",
    "import gpytorch\n",
    "from tqdm.notebook import trange\n",
    "import heapq\n",
    "import math\n",
    "from algorithms.cd import con_div\n",
    "from algorithms.ccr import con_conv_rate\n",
    "from metrics.class_imbalance import get_classes, class_proportion"
   ]
  },
  {
   "cell_type": "code",
   "execution_count": null,
   "metadata": {
    "scrolled": true
   },
   "outputs": [],
   "source": [
    "# setting device on GPU if available, else CPU\n",
    "device = torch.device('cuda' if torch.cuda.is_available() else 'cpu')\n",
    "print('Using device:', device)\n",
    "print()\n",
    "\n",
    "#Additional Info when using cuda\n",
    "if device.type == 'cuda':\n",
    "    print(torch.cuda.get_device_name(0))\n",
    "    print('Memory Usage:')\n",
    "    print('Allocated:', round(torch.cuda.memory_allocated(0)/1024**3,1), 'GB')\n",
    "    print('Cached:   ', round(torch.cuda.memory_reserved(0)/1024**3,1), 'GB')"
   ]
  },
  {
   "cell_type": "markdown",
   "metadata": {},
   "source": [
    "## Dataset"
   ]
  },
  {
   "cell_type": "code",
   "execution_count": null,
   "metadata": {},
   "outputs": [],
   "source": [
    "def sample_GMM(means, covs, num_samples):\n",
    "    \"\"\"\n",
    "    Samples equally from clusters of normal distributions.\n",
    "    \"\"\"\n",
    "    assert(means.shape[0] == covs.shape[0])\n",
    "    assert(means.shape[1] == covs.shape[1])\n",
    "    assert(covs.shape[1] == covs.shape[2])\n",
    "    \n",
    "    n = means.shape[0]\n",
    "    d = means.shape[1]\n",
    "    samples = np.zeros((num_samples, d))\n",
    "    clusters = np.zeros(num_samples, dtype=np.int32)\n",
    "    \n",
    "    for i in range(num_samples):\n",
    "        cluster = np.random.randint(n)\n",
    "        samples[i] = np.random.multivariate_normal(means[cluster], covs[cluster], check_valid='raise')\n",
    "        clusters[i] = cluster\n",
    "    \n",
    "    return samples, clusters"
   ]
  },
  {
   "cell_type": "code",
   "execution_count": null,
   "metadata": {},
   "outputs": [],
   "source": [
    "num_clusters = 5\n",
    "d = 2\n",
    "num_samples = 1000"
   ]
  },
  {
   "cell_type": "code",
   "execution_count": null,
   "metadata": {},
   "outputs": [],
   "source": [
    "np.random.seed(2)"
   ]
  },
  {
   "cell_type": "code",
   "execution_count": null,
   "metadata": {},
   "outputs": [],
   "source": [
    "means = np.random.uniform(size=(num_clusters, d))\n",
    "covs = np.zeros((num_clusters, d, d))\n",
    "for i in range(num_clusters):\n",
    "    covs[i] = np.eye(d)/200"
   ]
  },
  {
   "cell_type": "code",
   "execution_count": null,
   "metadata": {},
   "outputs": [],
   "source": [
    "train_sets = np.zeros((num_clusters, num_samples, d))\n",
    "test_sets = np.zeros((num_clusters, num_samples, d))"
   ]
  },
  {
   "cell_type": "code",
   "execution_count": null,
   "metadata": {},
   "outputs": [],
   "source": [
    "for i in range(num_clusters):\n",
    "    train_sets[i] = np.random.multivariate_normal(means[i], covs[i], size=(num_samples), check_valid='raise')\n",
    "    test_sets[i] = np.random.multivariate_normal(means[i], covs[i], size=(num_samples), check_valid='raise')"
   ]
  },
  {
   "cell_type": "code",
   "execution_count": null,
   "metadata": {
    "scrolled": false
   },
   "outputs": [],
   "source": [
    "# plt.rcParams.update({\n",
    "#     \"text.usetex\": True,\n",
    "#     \"font.family\": \"sans-serif\"})\n",
    "\n",
    "plt.figure(figsize=(10, 6), dpi=300)\n",
    "#plt.gca().set_aspect('equal', adjustable='box')\n",
    "for i in range(num_clusters):\n",
    "    plt.scatter(train_sets[i, :, 0], train_sets[i, :, 1], s=2, color=cm.get_cmap('Set1')(i*(1/9)), label=\"{0}\".format(i))\n",
    "\n",
    "    plt.legend()"
   ]
  },
  {
   "cell_type": "markdown",
   "metadata": {},
   "source": [
    "## Controlled divergence (CD)"
   ]
  },
  {
   "cell_type": "code",
   "execution_count": null,
   "metadata": {},
   "outputs": [],
   "source": [
    "candidates_clusters = [sample_GMM(means, covs, 5000) for i in range(num_clusters)]\n",
    "candidates = np.array([pair[0] for pair in candidates_clusters])\n",
    "clusters = np.array([pair[1] for pair in candidates_clusters])\n",
    "\n",
    "reference = sample_GMM(means, covs, num_samples)\n",
    "phi = [0, 0.25, 0.5, 0.75, 1]"
   ]
  },
  {
   "cell_type": "code",
   "execution_count": null,
   "metadata": {},
   "outputs": [],
   "source": [
    "kernel = gpytorch.kernels.ScaleKernel(gpytorch.kernels.RBFKernel(ard_num_dims=d))\n",
    "kernel.base_kernel.lengthscale = [1, 1]\n",
    "kernel.outputscale = 1"
   ]
  },
  {
   "cell_type": "code",
   "execution_count": null,
   "metadata": {
    "scrolled": true
   },
   "outputs": [],
   "source": [
    "res, deltas, mus = con_div(candidates, reference, phi, test_sets, kernel)"
   ]
  },
  {
   "cell_type": "code",
   "execution_count": null,
   "metadata": {
    "scrolled": true
   },
   "outputs": [],
   "source": [
    "for party in range(5):\n",
    "    plt.figure(figsize=(12, 6), dpi=300)\n",
    "    #plt.gca().set_aspect('equal', adjustable='box')\n",
    "    for i in range(num_clusters):\n",
    "        if i != party:\n",
    "            plt.scatter(test_sets[i, :, 0], test_sets[i, :, 1], s=0.1, color='grey')\n",
    "    plt.scatter(test_sets[party, :, 0], test_sets[party, :, 1], s=10, color=cm.get_cmap('Set1')(0*(1/9)), label=\"Party {}\".format(party))\n",
    "\n",
    "    added = np.array(res[party])\n",
    "    alphas = [1-i*(1/len(added)) for i in range(len(added))]\n",
    "    rgba_colors = np.zeros((len(added),4))\n",
    "    rgba_colors[:, 3] = alphas\n",
    "    rgba_colors[:, :3] = (0.21568627450980393, 0.49411764705882355, 0.7215686274509804)\n",
    "    plt.scatter(added[:, 0], added[:, 1], s=10, color=rgba_colors, label=\"Added\")"
   ]
  },
  {
   "cell_type": "markdown",
   "metadata": {},
   "source": [
    "### Weighted sampling"
   ]
  },
  {
   "cell_type": "code",
   "execution_count": null,
   "metadata": {},
   "outputs": [],
   "source": [
    "num_clusters = 20"
   ]
  },
  {
   "cell_type": "code",
   "execution_count": null,
   "metadata": {},
   "outputs": [],
   "source": [
    "gmm_clusters = [sample_GMM(means, covs, 8000) for i in range(num_clusters)]\n",
    "gmm = np.array([pair[0] for pair in gmm_clusters])\n",
    "clusters = np.array([pair[1] for pair in gmm_clusters])"
   ]
  },
  {
   "cell_type": "code",
   "execution_count": null,
   "metadata": {},
   "outputs": [],
   "source": [
    "reference = sample_GMM(means, covs, num_samples)[0]\n",
    "candidates = np.array([gmm[0]]*5)\n",
    "phi = [0, 0, 0, 0, 0]\n",
    "D = np.array([test_sets[2]] * 5)"
   ]
  },
  {
   "cell_type": "code",
   "execution_count": null,
   "metadata": {},
   "outputs": [],
   "source": [
    "greeds = list(np.exp(np.linspace(-2, 2, 18)))\n",
    "ls.insert(0, 0)\n",
    "ls.append(-1)"
   ]
  },
  {
   "cell_type": "code",
   "execution_count": null,
   "metadata": {},
   "outputs": [],
   "source": [
    "kernel = gpytorch.kernels.ScaleKernel(gpytorch.kernels.RBFKernel(ard_num_dims=d))\n",
    "kernel.base_kernel.lengthscale = [1, 1]\n",
    "kernel.outputscale = 1"
   ]
  },
  {
   "cell_type": "code",
   "execution_count": null,
   "metadata": {
    "scrolled": false
   },
   "outputs": [],
   "source": [
    "res, deltas, mus = con_div(candidates, reference, phi, D, kernel, num_perms=100, greeds=greeds)"
   ]
  },
  {
   "cell_type": "code",
   "execution_count": null,
   "metadata": {
    "scrolled": false
   },
   "outputs": [],
   "source": [
    "for party in range(5):\n",
    "    plt.figure(figsize=(12, 6), dpi=300)\n",
    "    #plt.gca().set_aspect('equal', adjustable='box')\n",
    "    for i in range(num_clusters):\n",
    "        if i != party:\n",
    "            plt.scatter(test_sets[i, :, 0], test_sets[i, :, 1], s=0.1, color='grey')\n",
    "    plt.scatter(D[party, :, 0], D[party, :, 1], s=10, color=cm.get_cmap('Set1')(0*(1/9)), label=\"Party {}\".format(party))\n",
    "\n",
    "    added = np.array(res[party])\n",
    "    alphas = [1-i*(1/len(added)) for i in range(len(added))]\n",
    "    rgba_colors = np.zeros((len(added),4))\n",
    "    rgba_colors[:, 3] = alphas\n",
    "    rgba_colors[:, :3] = (0.21568627450980393, 0.49411764705882355, 0.7215686274509804)\n",
    "    plt.scatter(added[:, 0], added[:, 1], s=10, color=rgba_colors, label=\"Added\")"
   ]
  },
  {
   "cell_type": "markdown",
   "metadata": {},
   "source": [
    "## Controlled convergence rate (CCR)"
   ]
  },
  {
   "cell_type": "code",
   "execution_count": null,
   "metadata": {},
   "outputs": [],
   "source": [
    "gmm = np.array([sample_GMM(means, covs, 500) for i in range(num_clusters)])\n",
    "candidates = np.array([gmm[0]]*5)\n",
    "phi = [1, 0.75, 0.5, 0.25, 0]\n",
    "D = np.array([test_sets[0]] * 5)"
   ]
  },
  {
   "cell_type": "code",
   "execution_count": null,
   "metadata": {},
   "outputs": [],
   "source": [
    "kernel = gpytorch.kernels.ScaleKernel(gpytorch.kernels.RBFKernel(ard_num_dims=d))\n",
    "kernel.base_kernel.lengthscale = [1, 1]\n",
    "kernel.outputscale = 1"
   ]
  },
  {
   "cell_type": "code",
   "execution_count": null,
   "metadata": {
    "scrolled": false
   },
   "outputs": [],
   "source": [
    "R, deltas, mus = con_conv_rate(candidates, reference, phi, D, kernel)"
   ]
  },
  {
   "cell_type": "code",
   "execution_count": null,
   "metadata": {
    "scrolled": false
   },
   "outputs": [],
   "source": [
    "x = list(range(1, len(mus[0])+1))\n",
    "plt.figure(figsize=(12, 6), dpi=300)\n",
    "\n",
    "for i in range(len(mus)):\n",
    "    plt.plot(x, mus[i], 'C0', linewidth=1, color=cm.get_cmap('Set1')(i*(1/9)), label=\"$\\phi = ${}\".format(1 - i*0.25))\n",
    "\n",
    "    plt.legend()"
   ]
  },
  {
   "cell_type": "code",
   "execution_count": null,
   "metadata": {
    "scrolled": false
   },
   "outputs": [],
   "source": [
    "for reward in range(len(R)):\n",
    "    plt.figure(figsize=(12, 6), dpi=300)\n",
    "    plt.scatter(D[0, :, 0], D[0, :, 1], s=20, color=cm.get_cmap('Set1')(0*(1/9)), label=\"Party\")\n",
    "    for i in range(num_clusters):\n",
    "        plt.scatter(test_sets[i, :, 0], test_sets[i, :, 1], s=0.1, color='grey')\n",
    "    \n",
    "    added = np.array(R[reward])\n",
    "    alphas = [1-i*(1/len(R[reward])) for i in range(len(R[reward]))]\n",
    "    rgba_colors = np.zeros((len(R[reward]),4))\n",
    "    rgba_colors[:, 3] = alphas\n",
    "    rgba_colors[:, :3] = (0.21568627450980393, 0.49411764705882355, 0.7215686274509804)\n",
    "    plt.scatter(added[:, 0], added[:, 1], s=20, color=rgba_colors, label=\"Added\")\n",
    "    plt.legend()\n",
    "    plt.title(\"$\\phi = {}$\".format(1 - reward*0.25))"
   ]
  }
 ],
 "metadata": {
  "kernelspec": {
   "display_name": "Python 3",
   "language": "python",
   "name": "python3"
  },
  "language_info": {
   "codemirror_mode": {
    "name": "ipython",
    "version": 3
   },
   "file_extension": ".py",
   "mimetype": "text/x-python",
   "name": "python",
   "nbconvert_exporter": "python",
   "pygments_lexer": "ipython3",
   "version": "3.6.12"
  }
 },
 "nbformat": 4,
 "nbformat_minor": 4
}
