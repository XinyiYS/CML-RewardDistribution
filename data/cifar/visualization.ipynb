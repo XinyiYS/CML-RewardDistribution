{
 "cells": [
  {
   "cell_type": "code",
   "execution_count": 17,
   "id": "separated-cooperation",
   "metadata": {},
   "outputs": [],
   "source": [
    "import numpy as np\n",
    "import matplotlib.pyplot as plt"
   ]
  },
  {
   "cell_type": "markdown",
   "id": "acting-wayne",
   "metadata": {},
   "source": [
    "## MNIST"
   ]
  },
  {
   "cell_type": "code",
   "execution_count": 2,
   "id": "operational-column",
   "metadata": {},
   "outputs": [],
   "source": [
    "mnist_samples = np.load('mnist_samples.npy')"
   ]
  },
  {
   "cell_type": "code",
   "execution_count": 3,
   "id": "elementary-thong",
   "metadata": {},
   "outputs": [
    {
     "data": {
      "text/plain": [
       "(100000, 28, 28, 1)"
      ]
     },
     "execution_count": 3,
     "metadata": {},
     "output_type": "execute_result"
    }
   ],
   "source": [
    "mnist_samples.shape"
   ]
  },
  {
   "cell_type": "code",
   "execution_count": 5,
   "id": "cheap-melissa",
   "metadata": {},
   "outputs": [],
   "source": [
    "mnist_features = np.load('mnist_hF_features.npy')"
   ]
  },
  {
   "cell_type": "code",
   "execution_count": 16,
   "id": "gentle-porcelain",
   "metadata": {},
   "outputs": [
    {
     "data": {
      "text/plain": [
       "(100000, 16)"
      ]
     },
     "execution_count": 16,
     "metadata": {},
     "output_type": "execute_result"
    }
   ],
   "source": [
    "mnist_features.shape"
   ]
  },
  {
   "cell_type": "code",
   "execution_count": 9,
   "id": "wooden-medicare",
   "metadata": {
    "scrolled": true
   },
   "outputs": [
    {
     "data": {
      "text/plain": [
       "0.0"
      ]
     },
     "execution_count": 9,
     "metadata": {},
     "output_type": "execute_result"
    }
   ],
   "source": [
    "np.min(mnist_samples[0])"
   ]
  },
  {
   "cell_type": "code",
   "execution_count": 40,
   "id": "enclosed-pottery",
   "metadata": {},
   "outputs": [
    {
     "data": {
      "text/plain": [
       "<matplotlib.image.AxesImage at 0x7f19568e4128>"
      ]
     },
     "execution_count": 40,
     "metadata": {},
     "output_type": "execute_result"
    },
    {
     "data": {
      "image/png": "[encoded data removed]",
      "text/plain": [
       "<Figure size 432x288 with 1 Axes>"
      ]
     },
     "metadata": {
      "needs_background": "light"
     },
     "output_type": "display_data"
    }
   ],
   "source": [
    "plt.imshow(mnist_samples[10000])"
   ]
  },
  {
   "cell_type": "markdown",
   "id": "continental-farmer",
   "metadata": {},
   "source": [
    "## CIFAR"
   ]
  },
  {
   "cell_type": "code",
   "execution_count": 10,
   "id": "complete-reproduction",
   "metadata": {},
   "outputs": [],
   "source": [
    "cifar_samples = np.load('cifar_samples.npy')"
   ]
  },
  {
   "cell_type": "code",
   "execution_count": 11,
   "id": "upper-writing",
   "metadata": {},
   "outputs": [
    {
     "data": {
      "text/plain": [
       "(100000, 32, 32, 3)"
      ]
     },
     "execution_count": 11,
     "metadata": {},
     "output_type": "execute_result"
    }
   ],
   "source": [
    "cifar_samples.shape"
   ]
  },
  {
   "cell_type": "code",
   "execution_count": 12,
   "id": "mexican-election",
   "metadata": {},
   "outputs": [],
   "source": [
    "cifar_features = np.load('cifar_hF_features.npy')"
   ]
  },
  {
   "cell_type": "code",
   "execution_count": 15,
   "id": "regional-cliff",
   "metadata": {},
   "outputs": [
    {
     "data": {
      "text/plain": [
       "(100000, 16)"
      ]
     },
     "execution_count": 15,
     "metadata": {},
     "output_type": "execute_result"
    }
   ],
   "source": [
    "cifar_features.shape"
   ]
  },
  {
   "cell_type": "code",
   "execution_count": 14,
   "id": "united-creature",
   "metadata": {
    "scrolled": true
   },
   "outputs": [
    {
     "data": {
      "text/plain": [
       "0.9665657"
      ]
     },
     "execution_count": 14,
     "metadata": {},
     "output_type": "execute_result"
    }
   ],
   "source": [
    "np.max(cifar_samples[0])"
   ]
  },
  {
   "cell_type": "code",
   "execution_count": 49,
   "id": "prompt-filing",
   "metadata": {},
   "outputs": [
    {
     "data": {
      "text/plain": [
       "<matplotlib.image.AxesImage at 0x7f19567caac8>"
      ]
     },
     "execution_count": 49,
     "metadata": {},
     "output_type": "execute_result"
    },
    {
     "data": {
      "image/png": "[encoded data removed]",
      "text/plain": [
       "<Figure size 432x288 with 1 Axes>"
      ]
     },
     "metadata": {
      "needs_background": "light"
     },
     "output_type": "display_data"
    }
   ],
   "source": [
    "plt.imshow(cifar_samples[99939])"
   ]
  }
 ],
 "metadata": {
  "kernelspec": {
   "display_name": "Python 3",
   "language": "python",
   "name": "python3"
  },
  "language_info": {
   "codemirror_mode": {
    "name": "ipython",
    "version": 3
   },
   "file_extension": ".py",
   "mimetype": "text/x-python",
   "name": "python",
   "nbconvert_exporter": "python",
   "pygments_lexer": "ipython3",
   "version": "3.6.12"
  }
 },
 "nbformat": 4,
 "nbformat_minor": 5
}
