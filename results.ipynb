{
 "cells": [
  {
   "cell_type": "code",
   "execution_count": 1,
   "metadata": {},
   "outputs": [],
   "source": [
    "import numpy as np\n",
    "import pickle\n",
    "\n",
    "from metrics.phi_div import dkl, average_dkl\n",
    "from metrics.wasserstein import wasserstein_2"
   ]
  },
  {
   "cell_type": "code",
   "execution_count": 7,
   "metadata": {},
   "outputs": [],
   "source": [
    "datasets = ['gmm', 'mnist', 'cifar']\n",
    "splits = ['equaldisjoint', 'unequal']\n",
    "greeds = [1, 2, 4, 8]\n",
    "condition = 'stable'\n",
    "keys = ['party_datasets', 'party_labels', 'reference_dataset', 'candidate_datasets', 'candidate_labels',\n",
    "        'rewards', 'deltas', 'mus', 'alpha', 'class_props', 'dkl_before', 'dkl_after', 'wass_before', 'wass_after']"
   ]
  },
  {
   "cell_type": "markdown",
   "metadata": {},
   "source": [
    "## Load data"
   ]
  },
  {
   "cell_type": "code",
   "execution_count": 5,
   "metadata": {},
   "outputs": [],
   "source": [
    "results_dict = {}\n",
    "# Add empty dicts \n",
    "for ds in datasets:\n",
    "    results_dict[ds] = {}\n",
    "    for split in splits:\n",
    "        results_dict[ds][split] = {}\n",
    "        for greed in greeds:\n",
    "            results_dict[ds][split][greed] = {}"
   ]
  },
  {
   "cell_type": "code",
   "execution_count": 16,
   "metadata": {},
   "outputs": [],
   "source": [
    "# Set run_id manually\n",
    "results_dict['gmm']['equaldisjoint'][1]['run'] = 78\n",
    "results_dict['gmm']['equaldisjoint'][2]['run'] = 77\n",
    "results_dict['gmm']['equaldisjoint'][4]['run'] = 76\n",
    "results_dict['gmm']['equaldisjoint'][8]['run'] = 75\n",
    "\n",
    "results_dict['gmm']['unequal'][1]['run'] = 71\n",
    "results_dict['gmm']['unequal'][2]['run'] = 72\n",
    "results_dict['gmm']['unequal'][4]['run'] = 73\n",
    "results_dict['gmm']['unequal'][8]['run'] = 74\n",
    "\n",
    "###\n",
    "results_dict['mnist']['equaldisjoint'][1]['run'] = 15\n",
    "results_dict['mnist']['equaldisjoint'][2]['run'] = 44\n",
    "results_dict['mnist']['equaldisjoint'][4]['run'] = 46\n",
    "results_dict['mnist']['equaldisjoint'][8]['run'] = 48\n",
    "\n",
    "results_dict['mnist']['unequal'][1]['run'] = 13\n",
    "results_dict['mnist']['unequal'][2]['run'] = 14\n",
    "results_dict['mnist']['unequal'][4]['run'] = 45\n",
    "results_dict['mnist']['unequal'][8]['run'] = 47\n",
    "\n",
    "# Set alpha for cifar manually\n",
    "results_dict['cifar']['equaldisjoint'][1]['alpha'] = [0.3794023848214341, 1.0, 0.6826898867992747, 0.906607589647515, 0.11702653001907139]\n",
    "results_dict['cifar']['equaldisjoint'][2]['alpha'] = [0.3794023848214341, 1.0, 0.6826898867992747, 0.906607589647515, 0.11702653001907139]\n",
    "results_dict['cifar']['equaldisjoint'][4]['alpha'] = [0.3794023848214341, 1.0, 0.6826898867992747, 0.906607589647515, 0.11702653001907139]\n",
    "results_dict['cifar']['equaldisjoint'][8]['alpha'] = [0.3794023848214341, 1.0, 0.6826898867992747, 0.906607589647515, 0.11702653001907139]\n",
    "\n",
    "results_dict['cifar']['unequal'][1]['alpha'] = [1.0, 0.9706108673457912, 0.2638529401880037, 0.4769904835896915, 0.17301571953644704]\n",
    "results_dict['cifar']['unequal'][2]['alpha'] = [1.0, 0.9706108673457912, 0.2638529401880037, 0.4769904835896915, 0.17301571953644704]\n",
    "results_dict['cifar']['unequal'][4]['alpha'] = [1.0, 0.9706108673457912, 0.2638529401880037, 0.4769904835896915, 0.17301571953644704]\n",
    "results_dict['cifar']['unequal'][8]['alpha'] = [1.0, 0.9706108673457912, 0.2638529401880037, 0.4769904835896915, 0.17301571953644704]"
   ]
  },
  {
   "cell_type": "code",
   "execution_count": 17,
   "metadata": {},
   "outputs": [],
   "source": [
    "# Load data\n",
    "for ds in ['gmm', 'mnist']:\n",
    "    for split in splits:\n",
    "        for greed in greeds:\n",
    "            run_id = results_dict[ds][split][greed]['run']\n",
    "            tup = pickle.load(open(\"data/{}/cgm-results/CGM-{}-{}-greed{}-{}-run{}.p\".format(ds,\n",
    "                                                                               ds,\n",
    "                                                                               split,\n",
    "                                                                               greed,\n",
    "                                                                               condition,\n",
    "                                                                               run_id), \"rb\"))\n",
    "            for i in range(len(keys)):\n",
    "                results_dict[ds][split][greed][keys[i]] = tup[i]\n",
    "\n",
    "# cifar\n",
    "ds = 'cifar'\n",
    "for split in splits:\n",
    "    for greed in greeds:\n",
    "        tup = pickle.load(open(\"data/{}/cgm-results/CGM-{}-{}-greed{}-{}.p\".format(ds,\n",
    "                                                                               ds,\n",
    "                                                                               split,\n",
    "                                                                               greed,\n",
    "                                                                               condition), \"rb\"))\n",
    "        for i in range(len(tup)):\n",
    "            results_dict[ds][split][greed][keys[i]] = tup[i]"
   ]
  },
  {
   "cell_type": "code",
   "execution_count": null,
   "metadata": {},
   "outputs": [],
   "source": []
  }
 ],
 "metadata": {
  "kernelspec": {
   "display_name": "Python 3",
   "language": "python",
   "name": "python3"
  },
  "language_info": {
   "codemirror_mode": {
    "name": "ipython",
    "version": 3
   },
   "file_extension": ".py",
   "mimetype": "text/x-python",
   "name": "python",
   "nbconvert_exporter": "python",
   "pygments_lexer": "ipython3",
   "version": "3.6.12"
  }
 },
 "nbformat": 4,
 "nbformat_minor": 4
}
